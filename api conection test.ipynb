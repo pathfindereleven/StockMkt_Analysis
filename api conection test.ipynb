{
 "cells": [
  {
   "cell_type": "code",
   "execution_count": 1,
   "id": "5a1fe8ed",
   "metadata": {},
   "outputs": [],
   "source": [
    "    #imports\n",
    "\n",
    "import json\n",
    "import requests \n",
    "from pprint import pprint"
   ]
  },
  {
   "cell_type": "code",
   "execution_count": 2,
   "id": "1f5e18c0",
   "metadata": {},
   "outputs": [],
   "source": [
    "api_key = \"cspGv1BBkvZLZ3u0OKaEvtzb7DI18usH\"\n",
    "url = \"https://api.polygon.io/v2/aggs/ticker/AAPL/range/1/day/2023-01-09/2023-01-09?apiKey=\""
   ]
  },
  {
   "cell_type": "code",
   "execution_count": 8,
   "id": "bcb6574c",
   "metadata": {},
   "outputs": [
    {
     "name": "stdout",
     "output_type": "stream",
     "text": [
      "<bound method Response.json of <Response [200]>>\n"
     ]
    }
   ],
   "source": [
    "response = requests.get(f\"{url}{api_key}\").json\n",
    "print(response)\n"
   ]
  },
  {
   "cell_type": "code",
   "execution_count": null,
   "id": "deb76500",
   "metadata": {},
   "outputs": [],
   "source": []
  }
 ],
 "metadata": {
  "kernelspec": {
   "display_name": "Python 3 (ipykernel)",
   "language": "python",
   "name": "python3"
  },
  "language_info": {
   "codemirror_mode": {
    "name": "ipython",
    "version": 3
   },
   "file_extension": ".py",
   "mimetype": "text/x-python",
   "name": "python",
   "nbconvert_exporter": "python",
   "pygments_lexer": "ipython3",
   "version": "3.11.3"
  }
 },
 "nbformat": 4,
 "nbformat_minor": 5
}

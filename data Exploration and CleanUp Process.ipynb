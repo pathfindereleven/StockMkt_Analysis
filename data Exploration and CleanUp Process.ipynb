{
 "cells": [
  {
   "cell_type": "markdown",
   "id": "4f4ada01",
   "metadata": {},
   "source": [
    "# Data Exploration and Clean Up Process"
   ]
  },
  {
   "cell_type": "markdown",
   "id": "70db431f",
   "metadata": {},
   "source": [
    "PROJECT DESCRIPTION\n",
    "\n",
    "Looking at stock trends in the stock market Pre Covid (2011-2019)  in comparison to Post Covid (2020-2025), specifically in . By comparing trends we are looking to see what industries took a hit with Covid, and which industries were able to recover. "
   ]
  },
  {
   "cell_type": "markdown",
   "id": "a6e445b6",
   "metadata": {},
   "source": [
    "RESEARCH QUESTIONS\n",
    "1. Which airline recovered the fastest from the Covid recession?\n",
    "2. Which airline got hit the worse?\n",
    "3. What do these results tell us about future trend lines? \n"
   ]
  },
  {
   "cell_type": "markdown",
   "id": "d46b8669",
   "metadata": {},
   "source": [
    "DATASETS TO BE USED\n",
    "\n",
    "Yahoo Finance \n"
   ]
  },
  {
   "cell_type": "markdown",
   "id": "093d7a7e",
   "metadata": {},
   "source": [
    "BREAKDOWN OF TASKS\n",
    "\n",
    "1. Identify etfs for comparison\n",
    "2. Find API data source (Yahoo Finance)\n",
    "3. Call the API data source\n",
    "4. Create dataframes\n",
    "5. Pull out information\n",
    "6. Chart the stuff \n",
    "7. EPS vs Stock price\n",
    "8. Earnings per share vs stock price\n",
    "9. Market cap growth\n",
    "10. Shares available * stock price\n",
    "11. Interpret the data section\n",
    "12. Extraneous factors\n",
    "13. Based on our regression analyses, this stock did best.\n",
    "14. Projections say this would be the best\n",
    "15. Conclusion\n"
   ]
  },
  {
   "cell_type": "code",
   "execution_count": null,
   "id": "b2833af9",
   "metadata": {},
   "outputs": [],
   "source": []
  }
 ],
 "metadata": {
  "kernelspec": {
   "display_name": "Python 3 (ipykernel)",
   "language": "python",
   "name": "python3"
  },
  "language_info": {
   "codemirror_mode": {
    "name": "ipython",
    "version": 3
   },
   "file_extension": ".py",
   "mimetype": "text/x-python",
   "name": "python",
   "nbconvert_exporter": "python",
   "pygments_lexer": "ipython3",
   "version": "3.10.11"
  }
 },
 "nbformat": 4,
 "nbformat_minor": 5
}

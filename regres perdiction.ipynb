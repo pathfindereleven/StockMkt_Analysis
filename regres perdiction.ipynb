{
 "cells": [
  {
   "cell_type": "code",
   "execution_count": 1,
   "id": "5520d3ab",
   "metadata": {},
   "outputs": [],
   "source": [
    "import time \n",
    "import datetime \n",
    "import pandas as pd \n",
    "import numpy as np \n",
    "import matplotlib.pyplot as plt \n",
    "from scipy.stats import linregress\n",
    "import requests\n",
    "import yfinance as yf"
   ]
  },
  {
   "cell_type": "code",
   "execution_count": 2,
   "id": "376b8827",
   "metadata": {},
   "outputs": [],
   "source": [
    "tickers = [\"UAL\", \"DAL\", \"AAL\", \"LUV\"]\n",
    "\n",
    "# Create an empty list to store the dataframes\n",
    "dataframes = []\n",
    "\n",
    "# Get data using yahoo finance for the tickers\n",
    "for ticker in tickers:\n",
    "    ticker_data = yf.Ticker(ticker)\n",
    "    df = pd.DataFrame(ticker_data.get_shares_full(start='2000-01-01', end='2023-08-01'))\n",
    "    df.reset_index(inplace=True)\n",
    "    df['Ticker'] = ticker\n",
    "    dataframes.append(df)\n",
    "\n",
    "# Concatenate all dataframes\n",
    "stock_df = pd.concat(dataframes)\n",
    "\n",
    "# Change the index column (date) to an actual date\n",
    "stock_df['index'] = stock_df['index'].dt.strftime('%Y-%m-%d')\n",
    "\n",
    "# Have to rename som columns...\n",
    "stock_df.rename(columns={0:'Outstanding Shares','index':'Date'}, inplace = True)\n"
   ]
  },
  {
   "cell_type": "code",
   "execution_count": 3,
   "id": "6cec3877",
   "metadata": {},
   "outputs": [],
   "source": [
    "# Initialize a list of tickers for the stock\n",
    "stock_names = ['United Airilnes', 'Delta Airlines','American Airlines','SouthWest Airlines']\n",
    "\n",
    "# Define the variables\n",
    "# We wil use 2015 in this one so we can fill forward later\n",
    "precovid_date = int(time.mktime(datetime.datetime(2015, 1, 5, 23, 59).timetuple()))\n",
    "postcovid_date = int(time.mktime(datetime.datetime(2023, 8, 1, 23, 59).timetuple()))\n",
    "interval = \"1wk\"\n",
    "\n",
    "# Initialize an empty list to store the dataframes for each stock\n",
    "dfs = []\n",
    "\n",
    "# Repeat a data fetch, this time from a query string\n",
    "for ticker in tickers:\n",
    "    query_string = f\"https://query1.finance.yahoo.com/v7/finance/download/{ticker}?period1={precovid_date}&period2={postcovid_date}&interval={interval}&events=history&includeAdjustedClose=true\"\n",
    "    df = pd.read_csv(query_string)\n",
    "    df['Ticker'] = ticker\n",
    "    dfs.append(df)\n",
    "\n",
    "# Concatenate all the dataframes in the dfs list based on the common \"Date\" column\n",
    "combined_df = pd.concat(dfs)\n",
    "\n",
    "# Rearrange columns with \"Ticker\" as the first column\n",
    "combined_df = combined_df[['Ticker'] + [col for col in combined_df.columns if col != 'Ticker']]\n",
    "\n"
   ]
  },
  {
   "cell_type": "code",
   "execution_count": 4,
   "id": "8a3e5417",
   "metadata": {},
   "outputs": [],
   "source": [
    "# Merging the dataframes by date\n",
    "merged_df = pd.merge(combined_df, stock_df, on =['Ticker','Date'], how = 'left')\n",
    "\n",
    "# Need to set an initial values for the shares of United because data does not go back far enough.\n",
    "# Data is later cut at 2016 so the 2015 error data won't matter\n",
    "merged_df.at[0, 'Outstanding Shares'] = 372810000\n",
    "\n",
    "# Fill the NaN values forward using the ffill method\n",
    "merged_df['Outstanding Shares'].fillna(method='ffill', inplace = True)\n",
    "\n",
    "# Create the Market Cap column\n",
    "merged_df['Market Cap'] = merged_df['Close']*merged_df['Outstanding Shares']\n"
   ]
  },
  {
   "cell_type": "code",
   "execution_count": 5,
   "id": "e996d3ff",
   "metadata": {},
   "outputs": [
    {
     "name": "stderr",
     "output_type": "stream",
     "text": [
      "C:\\Users\\pc\\AppData\\Local\\Temp\\ipykernel_18384\\3741415787.py:4: SettingWithCopyWarning: \n",
      "A value is trying to be set on a copy of a slice from a DataFrame.\n",
      "Try using .loc[row_indexer,col_indexer] = value instead\n",
      "\n",
      "See the caveats in the documentation: https://pandas.pydata.org/pandas-docs/stable/user_guide/indexing.html#returning-a-view-versus-a-copy\n",
      "  filtered_df['Date Numeric'] = pd.to_numeric(filtered_df['Date'])\n"
     ]
    }
   ],
   "source": [
    "# Now we need to filter the data frame to be 2016 and beyond\n",
    "merged_df['Date'] = pd.to_datetime(merged_df['Date'])\n",
    "filtered_df=merged_df[merged_df['Date'].dt.year >= 2016]\n",
    "filtered_df['Date Numeric'] = pd.to_numeric(filtered_df['Date'])\n"
   ]
  },
  {
   "cell_type": "code",
   "execution_count": 6,
   "id": "71dd3262",
   "metadata": {},
   "outputs": [],
   "source": [
    "        # furture predictions based on y= mx+b of the year to date regresion line\n",
    "current_ls =[]\n",
    "predic_ls = []\n",
    "x= pd.DataFrame(columns =[\"Date\"])\n",
    "x[\"Date\"]= [\"2023-12-30\"]\n",
    "x = x['Date'] = pd.to_datetime(x['Date']).astype(np.int64)\n",
    "new_x =x[\"Date\"].iloc[0]\n",
    "for tick in tickers:\n",
    "    future_df= filtered_df[(filtered_df['Ticker'] == f'{tick}') & (filtered_df['Date'] >= pd.to_datetime('2023-01-01'))]\n",
    "    X = np.asarray(future_df['Date Numeric']);\n",
    "    Y = np.asarray(future_df['Market Cap']);\n",
    "    model = linregress(X, Y)\n",
    "    slope, intercept = model.slope, model.intercept\n",
    "    predict = slope*new_x + intercept\n",
    "    today_df = filtered_df.loc[filtered_df[\"Date\"] == \"2023-07-31\"]  \n",
    "    today_df =today_df.loc[filtered_df[\"Ticker\"]== f'{tick}']\n",
    "    today = today_df[\"Market Cap\"].iloc[0] \n",
    "    current_ls.append(today)\n",
    "    predic_ls.append(predict)\n",
    "    #print(f'The market cap today of {tick} is {today}')\n",
    "    #print(f\"the Market Cap 2023-12-30 prediction of {tick} is {predict}\")"
   ]
  },
  {
   "cell_type": "code",
   "execution_count": 7,
   "id": "7de280fc",
   "metadata": {},
   "outputs": [],
   "source": [
    "#  calculate market cap before covid 2019-12-30\n",
    "cap_ls= []\n",
    "dec_df = filtered_df.loc[filtered_df[\"Date\"] == \"2019-12-30\"]\n",
    "for tick in tickers:\n",
    "    loop_df= dec_df.loc[dec_df[\"Ticker\"] == tick]\n",
    "    cap = loop_df[\"Market Cap\"].iloc[0]\n",
    "    cap_ls.append(cap)\n",
    "    #print(f' the pre covid market cap for {tick} is {cap}')"
   ]
  },
  {
   "cell_type": "code",
   "execution_count": 8,
   "id": "88cb6695",
   "metadata": {},
   "outputs": [],
   "source": [
    "black_ls=[]\n",
    "black = filtered_df.loc[filtered_df[\"Date\"] == \"2020-03-16\"]\n",
    "for tick in tickers:\n",
    "    loop_df= black.loc[black[\"Ticker\"] == tick]\n",
    "    cat = loop_df[\"Market Cap\"].iloc[0]\n",
    "    black_ls.append(cat)"
   ]
  },
  {
   "cell_type": "code",
   "execution_count": 9,
   "id": "9ea1e170",
   "metadata": {},
   "outputs": [],
   "source": [
    "\n",
    "stock_prediction=pd.DataFrame(list(zip(tickers, cap_ls,black_ls, current_ls, predic_ls,)),\n",
    "              columns=[ 'Ticker','Precovid Cap','Black Monday 2','Current Cap', 'Prediction Jan 24'])\n"
   ]
  },
  {
   "cell_type": "code",
   "execution_count": 10,
   "id": "b99215f8",
   "metadata": {},
   "outputs": [],
   "source": [
    "# zip sum values to df\n",
    "c = stock_prediction[\"Current Cap\"].sum()\n",
    "s =stock_prediction[\"Prediction Jan 24\"].sum()\n",
    "b = stock_prediction[\"Black Monday 2\"].sum()\n",
    "p = stock_prediction[\"Precovid Cap\"].sum()\n",
    "t = \"sum\"\n",
    "sum_ls = [t,p,c,s]\n",
    "stock_prediction.loc[-1] = [t, p,b, c, s]  \n"
   ]
  },
  {
   "cell_type": "code",
   "execution_count": 11,
   "id": "8be02918",
   "metadata": {},
   "outputs": [],
   "source": [
    "#divide values by 1 billion to remove e\n",
    "value = 1000000000\n",
    "stock_prediction[\"Current Cap\"]=(stock_prediction[\"Current Cap\"]/value).round(2)\n",
    "stock_prediction[\"Precovid Cap\"]=(stock_prediction[\"Precovid Cap\"]/value).round(2)\n",
    "stock_prediction[\"Prediction Jan 24\"]=(stock_prediction[\"Prediction Jan 24\"]/value).round(2)\n",
    "stock_prediction[\"Black Monday 2\"]=(stock_prediction[\"Black Monday 2\"]/value).round(2)"
   ]
  },
  {
   "cell_type": "code",
   "execution_count": 12,
   "id": "31eb87a1",
   "metadata": {
    "scrolled": false
   },
   "outputs": [
    {
     "name": "stdout",
     "output_type": "stream",
     "text": [
      "Market Capital In Billions of Dollars\n"
     ]
    },
    {
     "data": {
      "text/html": [
       "<div>\n",
       "<style scoped>\n",
       "    .dataframe tbody tr th:only-of-type {\n",
       "        vertical-align: middle;\n",
       "    }\n",
       "\n",
       "    .dataframe tbody tr th {\n",
       "        vertical-align: top;\n",
       "    }\n",
       "\n",
       "    .dataframe thead th {\n",
       "        text-align: right;\n",
       "    }\n",
       "</style>\n",
       "<table border=\"1\" class=\"dataframe\">\n",
       "  <thead>\n",
       "    <tr style=\"text-align: right;\">\n",
       "      <th></th>\n",
       "      <th>Ticker</th>\n",
       "      <th>Precovid Cap</th>\n",
       "      <th>Black Monday 2</th>\n",
       "      <th>Current Cap</th>\n",
       "      <th>Prediction Jan 24</th>\n",
       "    </tr>\n",
       "  </thead>\n",
       "  <tbody>\n",
       "    <tr>\n",
       "      <th>0</th>\n",
       "      <td>UAL</td>\n",
       "      <td>22.40</td>\n",
       "      <td>6.07</td>\n",
       "      <td>17.21</td>\n",
       "      <td>18.56</td>\n",
       "    </tr>\n",
       "    <tr>\n",
       "      <th>1</th>\n",
       "      <td>DAL</td>\n",
       "      <td>37.87</td>\n",
       "      <td>13.93</td>\n",
       "      <td>29.29</td>\n",
       "      <td>33.07</td>\n",
       "    </tr>\n",
       "    <tr>\n",
       "      <th>2</th>\n",
       "      <td>AAL</td>\n",
       "      <td>12.11</td>\n",
       "      <td>4.44</td>\n",
       "      <td>10.36</td>\n",
       "      <td>10.98</td>\n",
       "    </tr>\n",
       "    <tr>\n",
       "      <th>3</th>\n",
       "      <td>LUV</td>\n",
       "      <td>29.01</td>\n",
       "      <td>17.05</td>\n",
       "      <td>20.28</td>\n",
       "      <td>19.86</td>\n",
       "    </tr>\n",
       "    <tr>\n",
       "      <th>-1</th>\n",
       "      <td>sum</td>\n",
       "      <td>101.39</td>\n",
       "      <td>41.50</td>\n",
       "      <td>77.14</td>\n",
       "      <td>82.46</td>\n",
       "    </tr>\n",
       "  </tbody>\n",
       "</table>\n",
       "</div>"
      ],
      "text/plain": [
       "   Ticker  Precovid Cap  Black Monday 2  Current Cap  Prediction Jan 24\n",
       " 0    UAL         22.40            6.07        17.21              18.56\n",
       " 1    DAL         37.87           13.93        29.29              33.07\n",
       " 2    AAL         12.11            4.44        10.36              10.98\n",
       " 3    LUV         29.01           17.05        20.28              19.86\n",
       "-1    sum        101.39           41.50        77.14              82.46"
      ]
     },
     "metadata": {},
     "output_type": "display_data"
    }
   ],
   "source": [
    "# display df for presentation\n",
    "print(\"Market Capital In Billions of Dollars\")\n",
    "display(stock_prediction)\n",
    "\n"
   ]
  }
 ],
 "metadata": {
  "kernelspec": {
   "display_name": "Python 3 (ipykernel)",
   "language": "python",
   "name": "python3"
  },
  "language_info": {
   "codemirror_mode": {
    "name": "ipython",
    "version": 3
   },
   "file_extension": ".py",
   "mimetype": "text/x-python",
   "name": "python",
   "nbconvert_exporter": "python",
   "pygments_lexer": "ipython3",
   "version": "3.11.3"
  }
 },
 "nbformat": 4,
 "nbformat_minor": 5
}

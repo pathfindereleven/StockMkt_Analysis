{
 "cells": [
  {
   "cell_type": "code",
   "execution_count": null,
   "id": "9423a494",
   "metadata": {},
   "outputs": [],
   "source": [
    "import time\n",
    "import datetime\n",
    "import pandas as pd\n",
    "import numpy as np\n",
    "import matplotlib.pyplot as pl"
   ]
  },
  {
   "cell_type": "code",
   "execution_count": null,
   "id": "2627514f",
   "metadata": {},
   "outputs": [],
   "source": [
    "ticker_list = [\"DIS\", \"AMZN\",\"NFLX\"]\n",
    "\n",
    "precovid = int(time.mktime(datetime.datetime(2015, 1, 1, 23, 59).timetuple()))\n",
    "postcovid = int(time.mktime(datetime.datetime(2023, 1, 1, 23, 59).timetuple()))\n",
    "interval = \"1wk\"\n",
    "stock_df = pd.DataFrame()\n",
    " \n",
    "\n",
    "for ticker in ticker_list:\n",
    "    query_string = f\"https://query1.finance.yahoo.com/v7/finance/download/{ticker}?period1={precovid}&period2={postcovid}&interval={interval}&events=history&includeAdjustedClose=true\"\n",
    "    loop_df= pd.read_csv(query_string)  \n",
    "    loop_df = loop_df [[\"Date\",\"Close\",\"Volume\"]]\n",
    "    loop_df = loop_df.rename(columns={'Close': f'Close {ticker}', 'Volume': f'Volume {ticker}'})\n",
    "    stock_df =  pd.concat([stock_df,loop_df], axis = 1)\n",
    "    \n",
    "stock_df = stock_df.loc[:,~stock_df.columns.duplicated()].copy()\n",
    "display(stock_df)"
   ]
  }
 ],
 "metadata": {
  "kernelspec": {
   "display_name": "Python 3 (ipykernel)",
   "language": "python",
   "name": "python3"
  },
  "language_info": {
   "codemirror_mode": {
    "name": "ipython",
    "version": 3
   },
   "file_extension": ".py",
   "mimetype": "text/x-python",
   "name": "python",
   "nbconvert_exporter": "python",
   "pygments_lexer": "ipython3",
   "version": "3.10.9"
  }
 },
 "nbformat": 4,
 "nbformat_minor": 5
}
